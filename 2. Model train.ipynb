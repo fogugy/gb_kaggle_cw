{
 "cells": [
  {
   "cell_type": "code",
   "execution_count": 1,
   "metadata": {},
   "outputs": [
    {
     "name": "stderr",
     "output_type": "stream",
     "text": [
      "/usr/local/lib/python3.6/site-packages/pandas/compat/__init__.py:120: UserWarning: Could not import the lzma module. Your installed Python is incomplete. Attempting to use lzma compression will result in a RuntimeError.\n",
      "  warnings.warn(msg)\n"
     ]
    }
   ],
   "source": [
    "import numpy as np\n",
    "import pandas as pd\n",
    "import matplotlib as mpl\n",
    "import matplotlib.pyplot as plt\n",
    "\n",
    "from utils import create_client_profile_features, get_input, one_hot_encode, catboost_cross_validation, calculate_feature_separating_ability\n",
    "from sklearn.preprocessing import Normalizer\n",
    "from sklearn.metrics import roc_auc_score\n",
    "from sklearn.model_selection import KFold, StratifiedKFold"
   ]
  },
  {
   "cell_type": "code",
   "execution_count": 2,
   "metadata": {},
   "outputs": [
    {
     "name": "stdout",
     "output_type": "stream",
     "text": [
      "./data/history_prep.csv: shape = 1670214 rows, 89 cols\n",
      "./data/bki_prep2.csv: shape = 945234 rows, 36 cols\n",
      "./data/client_prep2.csv: shape = 250000 rows, 59 cols\n",
      "./data/payments_prep2.csv: shape = 1023932 rows, 8 cols\n",
      "./data/app_prev_number.csv: shape = 338857 rows, 2 cols\n"
     ]
    }
   ],
   "source": [
    "history = get_input('./data/history_prep.csv')\n",
    "bki = get_input('./data/bki_prep2.csv')\n",
    "client_profile = get_input('./data/client_prep2.csv')\n",
    "payments = get_input('./data/payments_prep2.csv')\n",
    "prev_count = get_input('./data/app_prev_number.csv')"
   ]
  },
  {
   "cell_type": "code",
   "execution_count": 3,
   "metadata": {},
   "outputs": [],
   "source": [
    "history = history.sort_values(by=\"application_number\").drop_duplicates(subset=[\"application_number\"], keep=\"last\")\n",
    "bki = bki.sort_values(by=\"application_number\").drop_duplicates(subset=[\"application_number\"], keep=\"last\")\n",
    "payments = payments.sort_values(by=\"application_number\").drop_duplicates(subset=[\"application_number\"], keep=\"last\")"
   ]
  },
  {
   "cell_type": "markdown",
   "metadata": {},
   "source": [
    "### train, test prep"
   ]
  },
  {
   "cell_type": "code",
   "execution_count": 4,
   "metadata": {},
   "outputs": [
    {
     "name": "stdout",
     "output_type": "stream",
     "text": [
      "./data/train.csv: shape = 110093 rows, 3 cols\n",
      "./data/test.csv: shape = 165141 rows, 2 cols\n"
     ]
    }
   ],
   "source": [
    "train = get_input(\"./data/train.csv\")\n",
    "test = get_input(\"./data/test.csv\")\n",
    "\n",
    "data = pd.concat([train, test], axis=0)\n",
    "data = data.reset_index(drop=True)"
   ]
  },
  {
   "cell_type": "code",
   "execution_count": 5,
   "metadata": {},
   "outputs": [
    {
     "data": {
      "text/plain": [
       "(275234, 3)"
      ]
     },
     "execution_count": 5,
     "metadata": {},
     "output_type": "execute_result"
    }
   ],
   "source": [
    "data.shape"
   ]
  },
  {
   "cell_type": "code",
   "execution_count": 6,
   "metadata": {},
   "outputs": [],
   "source": [
    "data = data \\\n",
    "    .merge(client_profile, on='application_number', how='left') \\\n",
    "    .merge(payments, on='application_number', how='left') \\\n",
    "    .merge(bki, on='application_number', how='left') \\\n",
    "    .merge(prev_count, on='application_number', how='left')"
   ]
  },
  {
   "cell_type": "code",
   "execution_count": 7,
   "metadata": {},
   "outputs": [],
   "source": [
    "data = one_hot_encode(data)"
   ]
  },
  {
   "cell_type": "code",
   "execution_count": 8,
   "metadata": {},
   "outputs": [
    {
     "data": {
      "text/plain": [
       "(275234, 105)"
      ]
     },
     "execution_count": 8,
     "metadata": {},
     "output_type": "execute_result"
    }
   ],
   "source": [
    "data.shape"
   ]
  },
  {
   "cell_type": "code",
   "execution_count": 9,
   "metadata": {},
   "outputs": [],
   "source": [
    "mask = data[\"target\"].isnull()\n",
    "features_to_drop = [\"application_number\", \"target\"]\n",
    "\n",
    "train, test = data.loc[~mask], data.loc[mask]\n",
    "\n",
    "target, test_id = train[\"target\"], test[\"application_number\"]\n",
    "train = train.drop(features_to_drop, axis=1)\n",
    "test = test.drop(features_to_drop, axis=1)\n",
    "\n",
    "categorial = train.dtypes[train.dtypes == \"object\"].index\n",
    "numerical = list(set(train.columns) - set(categorial))\n",
    "\n",
    "train = train.replace(np.inf, np.nan)\n",
    "train = train.replace(-np.inf, np.nan)\n",
    "\n",
    "test = test.replace(np.inf, np.nan)\n",
    "test = test.replace(-np.inf, np.nan)"
   ]
  },
  {
   "cell_type": "code",
   "execution_count": 10,
   "metadata": {},
   "outputs": [
    {
     "data": {
      "text/plain": [
       "(103, 0)"
      ]
     },
     "execution_count": 10,
     "metadata": {},
     "output_type": "execute_result"
    }
   ],
   "source": [
    "len(numerical), len(categorial)"
   ]
  },
  {
   "cell_type": "code",
   "execution_count": 11,
   "metadata": {},
   "outputs": [],
   "source": [
    "train = train.fillna(0)\n",
    "test = test.fillna(0)"
   ]
  },
  {
   "cell_type": "code",
   "execution_count": 12,
   "metadata": {},
   "outputs": [],
   "source": [
    "# norm = Normalizer().fit(train)"
   ]
  },
  {
   "cell_type": "code",
   "execution_count": 13,
   "metadata": {},
   "outputs": [],
   "source": [
    "# train = norm.transform(train)\n",
    "# test = norm.transform(test)"
   ]
  },
  {
   "cell_type": "code",
   "execution_count": null,
   "metadata": {},
   "outputs": [],
   "source": []
  },
  {
   "cell_type": "code",
   "execution_count": 13,
   "metadata": {},
   "outputs": [],
   "source": [
    "scores = calculate_feature_separating_ability(train, target)"
   ]
  },
  {
   "cell_type": "code",
   "execution_count": 16,
   "metadata": {},
   "outputs": [
    {
     "data": {
      "text/plain": [
       "x0_m                                 0.071453\n",
       "x1_secondary / secondary special     0.068214\n",
       "ratio_annuity_to_age                 0.052216\n",
       "childrens                            0.035298\n",
       "x0_Cash                              0.033864\n",
       "                                       ...   \n",
       "external_scoring_rating_2           -0.208180\n",
       "external_scoring_rating_max         -0.250446\n",
       "external_scoring_rating_min         -0.255171\n",
       "external_scoring_rating_nanmedian   -0.281325\n",
       "external_scoring_rating_mean        -0.288431\n",
       "Length: 103, dtype: float64"
      ]
     },
     "execution_count": 16,
     "metadata": {},
     "output_type": "execute_result"
    }
   ],
   "source": [
    "scores"
   ]
  },
  {
   "cell_type": "code",
   "execution_count": 19,
   "metadata": {},
   "outputs": [],
   "source": [
    "feats = []\n",
    "\n",
    "for i, x in enumerate(scores):\n",
    "    if abs(x) > 0.01:\n",
    "        feats.append(scores.index[i])"
   ]
  },
  {
   "cell_type": "code",
   "execution_count": null,
   "metadata": {},
   "outputs": [],
   "source": [
    "len(feats), len(train.columns)"
   ]
  },
  {
   "cell_type": "code",
   "execution_count": 20,
   "metadata": {
    "scrolled": false
   },
   "outputs": [
    {
     "name": "stdout",
     "output_type": "stream",
     "text": [
      "Tue Oct  6 19:13:05 2020, Cross-Validation, 110093 rows, 53 cols\n",
      "0:\ttest: 0.6491432\ttest1: 0.6423007\tbest: 0.6423007 (0)\ttotal: 86.3ms\tremaining: 3m 35s\n",
      "50:\ttest: 0.7011023\ttest1: 0.7013670\tbest: 0.7017893 (49)\ttotal: 1.93s\tremaining: 1m 32s\n",
      "100:\ttest: 0.7043676\ttest1: 0.7042131\tbest: 0.7044559 (98)\ttotal: 3.76s\tremaining: 1m 29s\n",
      "150:\ttest: 0.7080530\ttest1: 0.7083834\tbest: 0.7083842 (149)\ttotal: 5.68s\tremaining: 1m 28s\n",
      "200:\ttest: 0.7110771\ttest1: 0.7104400\tbest: 0.7104400 (200)\ttotal: 7.54s\tremaining: 1m 26s\n",
      "250:\ttest: 0.7136025\ttest1: 0.7121117\tbest: 0.7121117 (250)\ttotal: 9.38s\tremaining: 1m 24s\n",
      "300:\ttest: 0.7168445\ttest1: 0.7140811\tbest: 0.7140811 (300)\ttotal: 11.3s\tremaining: 1m 22s\n",
      "350:\ttest: 0.7197259\ttest1: 0.7159582\tbest: 0.7159582 (350)\ttotal: 13.2s\tremaining: 1m 21s\n",
      "400:\ttest: 0.7222793\ttest1: 0.7178941\tbest: 0.7178941 (400)\ttotal: 15.2s\tremaining: 1m 19s\n",
      "450:\ttest: 0.7244333\ttest1: 0.7194545\tbest: 0.7194545 (450)\ttotal: 17.1s\tremaining: 1m 17s\n",
      "500:\ttest: 0.7260478\ttest1: 0.7206222\tbest: 0.7206222 (500)\ttotal: 19s\tremaining: 1m 15s\n",
      "550:\ttest: 0.7276854\ttest1: 0.7216499\tbest: 0.7216499 (550)\ttotal: 20.8s\tremaining: 1m 13s\n",
      "600:\ttest: 0.7290262\ttest1: 0.7223120\tbest: 0.7223120 (600)\ttotal: 22.6s\tremaining: 1m 11s\n",
      "650:\ttest: 0.7302745\ttest1: 0.7227076\tbest: 0.7227231 (647)\ttotal: 24.5s\tremaining: 1m 9s\n",
      "700:\ttest: 0.7315773\ttest1: 0.7231785\tbest: 0.7231785 (700)\ttotal: 26.2s\tremaining: 1m 7s\n",
      "750:\ttest: 0.7326813\ttest1: 0.7233889\tbest: 0.7234029 (748)\ttotal: 28.1s\tremaining: 1m 5s\n",
      "800:\ttest: 0.7336790\ttest1: 0.7240166\tbest: 0.7240166 (800)\ttotal: 29.8s\tremaining: 1m 3s\n",
      "850:\ttest: 0.7348664\ttest1: 0.7242281\tbest: 0.7242316 (849)\ttotal: 31.7s\tremaining: 1m 1s\n",
      "900:\ttest: 0.7359086\ttest1: 0.7244992\tbest: 0.7245008 (898)\ttotal: 33.5s\tremaining: 59.5s\n",
      "950:\ttest: 0.7369375\ttest1: 0.7246808\tbest: 0.7246808 (950)\ttotal: 35.3s\tremaining: 57.5s\n",
      "1000:\ttest: 0.7378431\ttest1: 0.7249186\tbest: 0.7249607 (992)\ttotal: 37.1s\tremaining: 55.6s\n",
      "1050:\ttest: 0.7387603\ttest1: 0.7250462\tbest: 0.7250690 (1041)\ttotal: 38.9s\tremaining: 53.6s\n",
      "1100:\ttest: 0.7397067\ttest1: 0.7253535\tbest: 0.7253730 (1094)\ttotal: 40.7s\tremaining: 51.7s\n",
      "1150:\ttest: 0.7407638\ttest1: 0.7256144\tbest: 0.7256194 (1148)\ttotal: 42.5s\tremaining: 49.8s\n",
      "1200:\ttest: 0.7417601\ttest1: 0.7258420\tbest: 0.7258420 (1200)\ttotal: 44.3s\tremaining: 47.9s\n",
      "1250:\ttest: 0.7427673\ttest1: 0.7259913\tbest: 0.7259913 (1250)\ttotal: 46.1s\tremaining: 46s\n",
      "1300:\ttest: 0.7435238\ttest1: 0.7260757\tbest: 0.7260830 (1299)\ttotal: 47.9s\tremaining: 44.1s\n",
      "1350:\ttest: 0.7445986\ttest1: 0.7262034\tbest: 0.7262036 (1345)\ttotal: 49.7s\tremaining: 42.3s\n",
      "1400:\ttest: 0.7454990\ttest1: 0.7263322\tbest: 0.7263322 (1400)\ttotal: 51.4s\tremaining: 40.4s\n",
      "1450:\ttest: 0.7461865\ttest1: 0.7264485\tbest: 0.7264675 (1447)\ttotal: 53.2s\tremaining: 38.5s\n",
      "1500:\ttest: 0.7469552\ttest1: 0.7265879\tbest: 0.7265883 (1492)\ttotal: 54.9s\tremaining: 36.6s\n",
      "1550:\ttest: 0.7476752\ttest1: 0.7266421\tbest: 0.7266421 (1550)\ttotal: 57.1s\tremaining: 35s\n",
      "1600:\ttest: 0.7484000\ttest1: 0.7267103\tbest: 0.7267195 (1596)\ttotal: 59.3s\tremaining: 33.3s\n",
      "1650:\ttest: 0.7489803\ttest1: 0.7267500\tbest: 0.7267923 (1633)\ttotal: 1m 1s\tremaining: 31.5s\n",
      "1700:\ttest: 0.7496910\ttest1: 0.7267638\tbest: 0.7267923 (1633)\ttotal: 1m 3s\tremaining: 29.7s\n",
      "1750:\ttest: 0.7503013\ttest1: 0.7268191\tbest: 0.7268204 (1744)\ttotal: 1m 5s\tremaining: 27.9s\n",
      "1800:\ttest: 0.7509444\ttest1: 0.7268419\tbest: 0.7268846 (1787)\ttotal: 1m 7s\tremaining: 26.1s\n",
      "1850:\ttest: 0.7515515\ttest1: 0.7267926\tbest: 0.7268892 (1826)\ttotal: 1m 9s\tremaining: 24.3s\n",
      "1900:\ttest: 0.7521945\ttest1: 0.7266891\tbest: 0.7268892 (1826)\ttotal: 1m 11s\tremaining: 22.4s\n",
      "Stopped by overfitting detector  (100 iterations wait)\n",
      "\n",
      "bestTest = 0.7268892042\n",
      "bestIteration = 1826\n",
      "\n",
      "Shrink model to first 1827 iterations.\n",
      "Fold 1, Valid score = 0.72689\n",
      "0:\ttest: 0.6476497\ttest1: 0.6493580\tbest: 0.6493580 (0)\ttotal: 38.5ms\tremaining: 1m 36s\n",
      "50:\ttest: 0.7011566\ttest1: 0.6972741\tbest: 0.6974524 (49)\ttotal: 2.01s\tremaining: 1m 36s\n",
      "100:\ttest: 0.7055211\ttest1: 0.7006342\tbest: 0.7006342 (100)\ttotal: 3.96s\tremaining: 1m 34s\n",
      "150:\ttest: 0.7097667\ttest1: 0.7038439\tbest: 0.7038439 (150)\ttotal: 5.96s\tremaining: 1m 32s\n",
      "200:\ttest: 0.7117987\ttest1: 0.7053108\tbest: 0.7053108 (200)\ttotal: 7.95s\tremaining: 1m 30s\n",
      "250:\ttest: 0.7145112\ttest1: 0.7085383\tbest: 0.7085758 (248)\ttotal: 9.95s\tremaining: 1m 29s\n",
      "300:\ttest: 0.7167753\ttest1: 0.7104702\tbest: 0.7104702 (300)\ttotal: 12s\tremaining: 1m 27s\n",
      "350:\ttest: 0.7193461\ttest1: 0.7132763\tbest: 0.7132763 (350)\ttotal: 14.1s\tremaining: 1m 26s\n",
      "400:\ttest: 0.7216643\ttest1: 0.7146757\tbest: 0.7146757 (400)\ttotal: 16.1s\tremaining: 1m 24s\n",
      "450:\ttest: 0.7237849\ttest1: 0.7160141\tbest: 0.7160141 (450)\ttotal: 18.2s\tremaining: 1m 22s\n",
      "500:\ttest: 0.7257375\ttest1: 0.7175312\tbest: 0.7175312 (500)\ttotal: 20.2s\tremaining: 1m 20s\n",
      "550:\ttest: 0.7272651\ttest1: 0.7183799\tbest: 0.7183799 (550)\ttotal: 22.2s\tremaining: 1m 18s\n",
      "600:\ttest: 0.7286877\ttest1: 0.7192046\tbest: 0.7192046 (600)\ttotal: 24.2s\tremaining: 1m 16s\n",
      "650:\ttest: 0.7299395\ttest1: 0.7200646\tbest: 0.7200646 (650)\ttotal: 26.1s\tremaining: 1m 14s\n",
      "700:\ttest: 0.7310651\ttest1: 0.7204740\tbest: 0.7204931 (690)\ttotal: 28.1s\tremaining: 1m 12s\n",
      "750:\ttest: 0.7323039\ttest1: 0.7211494\tbest: 0.7211494 (750)\ttotal: 30s\tremaining: 1m 9s\n",
      "800:\ttest: 0.7334308\ttest1: 0.7216445\tbest: 0.7216445 (800)\ttotal: 32s\tremaining: 1m 7s\n",
      "850:\ttest: 0.7344665\ttest1: 0.7220178\tbest: 0.7220301 (849)\ttotal: 34s\tremaining: 1m 5s\n",
      "900:\ttest: 0.7354478\ttest1: 0.7224063\tbest: 0.7224063 (900)\ttotal: 36s\tremaining: 1m 3s\n",
      "950:\ttest: 0.7363917\ttest1: 0.7227043\tbest: 0.7227047 (947)\ttotal: 38s\tremaining: 1m 1s\n",
      "1000:\ttest: 0.7373999\ttest1: 0.7230722\tbest: 0.7230746 (999)\ttotal: 39.9s\tremaining: 59.8s\n",
      "1050:\ttest: 0.7383707\ttest1: 0.7233292\tbest: 0.7233292 (1050)\ttotal: 41.8s\tremaining: 57.7s\n",
      "1100:\ttest: 0.7393498\ttest1: 0.7235670\tbest: 0.7235816 (1091)\ttotal: 43.8s\tremaining: 55.6s\n",
      "1150:\ttest: 0.7403284\ttest1: 0.7237937\tbest: 0.7237943 (1146)\ttotal: 45.8s\tremaining: 53.7s\n",
      "1200:\ttest: 0.7413331\ttest1: 0.7240535\tbest: 0.7240586 (1196)\ttotal: 47.7s\tremaining: 51.6s\n",
      "1250:\ttest: 0.7423447\ttest1: 0.7242193\tbest: 0.7242193 (1250)\ttotal: 49.7s\tremaining: 49.6s\n",
      "1300:\ttest: 0.7434474\ttest1: 0.7243781\tbest: 0.7243781 (1300)\ttotal: 51.6s\tremaining: 47.6s\n",
      "1350:\ttest: 0.7445244\ttest1: 0.7245040\tbest: 0.7245351 (1342)\ttotal: 53.6s\tremaining: 45.6s\n",
      "1400:\ttest: 0.7455370\ttest1: 0.7248803\tbest: 0.7248803 (1400)\ttotal: 55.6s\tremaining: 43.6s\n",
      "1450:\ttest: 0.7464802\ttest1: 0.7250271\tbest: 0.7250271 (1450)\ttotal: 57.5s\tremaining: 41.6s\n",
      "1500:\ttest: 0.7474969\ttest1: 0.7251774\tbest: 0.7251774 (1500)\ttotal: 59.4s\tremaining: 39.6s\n",
      "1550:\ttest: 0.7483972\ttest1: 0.7255238\tbest: 0.7255238 (1550)\ttotal: 1m 1s\tremaining: 37.6s\n",
      "1600:\ttest: 0.7492092\ttest1: 0.7255242\tbest: 0.7255704 (1567)\ttotal: 1m 3s\tremaining: 35.5s\n",
      "1650:\ttest: 0.7500863\ttest1: 0.7255945\tbest: 0.7256632 (1621)\ttotal: 1m 5s\tremaining: 33.5s\n",
      "1700:\ttest: 0.7509456\ttest1: 0.7255829\tbest: 0.7256632 (1621)\ttotal: 1m 7s\tremaining: 31.5s\n",
      "Stopped by overfitting detector  (100 iterations wait)\n",
      "\n",
      "bestTest = 0.7256631567\n",
      "bestIteration = 1621\n",
      "\n",
      "Shrink model to first 1622 iterations.\n",
      "Fold 2, Valid score = 0.72566\n",
      "0:\ttest: 0.6499574\ttest1: 0.6460418\tbest: 0.6460418 (0)\ttotal: 40ms\tremaining: 1m 40s\n",
      "50:\ttest: 0.7008041\ttest1: 0.7012311\tbest: 0.7018117 (38)\ttotal: 1.98s\tremaining: 1m 35s\n",
      "100:\ttest: 0.7046828\ttest1: 0.7043776\tbest: 0.7045629 (99)\ttotal: 3.87s\tremaining: 1m 32s\n",
      "150:\ttest: 0.7073796\ttest1: 0.7071153\tbest: 0.7072258 (148)\ttotal: 5.75s\tremaining: 1m 29s\n",
      "200:\ttest: 0.7113788\ttest1: 0.7097112\tbest: 0.7097112 (200)\ttotal: 7.7s\tremaining: 1m 28s\n",
      "250:\ttest: 0.7143360\ttest1: 0.7116215\tbest: 0.7116592 (249)\ttotal: 9.66s\tremaining: 1m 26s\n",
      "300:\ttest: 0.7175391\ttest1: 0.7135799\tbest: 0.7135799 (300)\ttotal: 11.6s\tremaining: 1m 24s\n",
      "350:\ttest: 0.7199117\ttest1: 0.7152646\tbest: 0.7152646 (350)\ttotal: 13.6s\tremaining: 1m 23s\n",
      "400:\ttest: 0.7226482\ttest1: 0.7172077\tbest: 0.7172077 (400)\ttotal: 15.5s\tremaining: 1m 21s\n",
      "450:\ttest: 0.7249913\ttest1: 0.7191496\tbest: 0.7191496 (450)\ttotal: 17.5s\tremaining: 1m 19s\n",
      "500:\ttest: 0.7267678\ttest1: 0.7202985\tbest: 0.7202985 (500)\ttotal: 19.4s\tremaining: 1m 17s\n",
      "550:\ttest: 0.7281071\ttest1: 0.7212121\tbest: 0.7212206 (549)\ttotal: 21.4s\tremaining: 1m 15s\n"
     ]
    },
    {
     "name": "stdout",
     "output_type": "stream",
     "text": [
      "600:\ttest: 0.7295632\ttest1: 0.7217320\tbest: 0.7217648 (599)\ttotal: 23.2s\tremaining: 1m 13s\n",
      "650:\ttest: 0.7309797\ttest1: 0.7221344\tbest: 0.7221344 (650)\ttotal: 25.2s\tremaining: 1m 11s\n",
      "700:\ttest: 0.7321957\ttest1: 0.7225595\tbest: 0.7225595 (700)\ttotal: 27.2s\tremaining: 1m 9s\n",
      "750:\ttest: 0.7333473\ttest1: 0.7228583\tbest: 0.7228583 (750)\ttotal: 29.3s\tremaining: 1m 8s\n",
      "800:\ttest: 0.7344777\ttest1: 0.7230472\tbest: 0.7230747 (799)\ttotal: 31.3s\tremaining: 1m 6s\n",
      "850:\ttest: 0.7353558\ttest1: 0.7232051\tbest: 0.7232188 (831)\ttotal: 33.2s\tremaining: 1m 4s\n",
      "900:\ttest: 0.7362481\ttest1: 0.7234674\tbest: 0.7234674 (900)\ttotal: 35.3s\tremaining: 1m 2s\n",
      "950:\ttest: 0.7371888\ttest1: 0.7236065\tbest: 0.7236065 (950)\ttotal: 37.3s\tremaining: 1m\n",
      "1000:\ttest: 0.7381596\ttest1: 0.7238908\tbest: 0.7239178 (996)\ttotal: 39.3s\tremaining: 58.9s\n",
      "1050:\ttest: 0.7390948\ttest1: 0.7238847\tbest: 0.7239178 (996)\ttotal: 41.3s\tremaining: 57s\n",
      "1100:\ttest: 0.7400186\ttest1: 0.7240954\tbest: 0.7240954 (1100)\ttotal: 43.4s\tremaining: 55.1s\n",
      "1150:\ttest: 0.7408050\ttest1: 0.7243615\tbest: 0.7244058 (1146)\ttotal: 45.4s\tremaining: 53.2s\n",
      "1200:\ttest: 0.7418288\ttest1: 0.7243430\tbest: 0.7244058 (1146)\ttotal: 47.4s\tremaining: 51.2s\n",
      "Stopped by overfitting detector  (100 iterations wait)\n",
      "\n",
      "bestTest = 0.7244057807\n",
      "bestIteration = 1146\n",
      "\n",
      "Shrink model to first 1147 iterations.\n",
      "Fold 3, Valid score = 0.72441\n",
      "0:\ttest: 0.6475773\ttest1: 0.6458964\tbest: 0.6458964 (0)\ttotal: 43.2ms\tremaining: 1m 47s\n",
      "50:\ttest: 0.7053034\ttest1: 0.7007048\tbest: 0.7017519 (42)\ttotal: 2.19s\tremaining: 1m 45s\n",
      "100:\ttest: 0.7070465\ttest1: 0.7023952\tbest: 0.7023952 (100)\ttotal: 4.35s\tremaining: 1m 43s\n",
      "150:\ttest: 0.7101749\ttest1: 0.7062043\tbest: 0.7062043 (150)\ttotal: 6.61s\tremaining: 1m 42s\n",
      "200:\ttest: 0.7129472\ttest1: 0.7077484\tbest: 0.7078122 (198)\ttotal: 9.08s\tremaining: 1m 43s\n",
      "250:\ttest: 0.7153400\ttest1: 0.7100750\tbest: 0.7100798 (249)\ttotal: 11.3s\tremaining: 1m 40s\n",
      "300:\ttest: 0.7182303\ttest1: 0.7117886\tbest: 0.7118103 (298)\ttotal: 13.3s\tremaining: 1m 37s\n",
      "350:\ttest: 0.7208119\ttest1: 0.7138617\tbest: 0.7139113 (349)\ttotal: 15.4s\tremaining: 1m 34s\n",
      "400:\ttest: 0.7227913\ttest1: 0.7158941\tbest: 0.7158941 (400)\ttotal: 17.6s\tremaining: 1m 31s\n",
      "450:\ttest: 0.7247552\ttest1: 0.7175132\tbest: 0.7175132 (450)\ttotal: 19.6s\tremaining: 1m 29s\n",
      "500:\ttest: 0.7266487\ttest1: 0.7192519\tbest: 0.7192519 (500)\ttotal: 21.6s\tremaining: 1m 26s\n",
      "550:\ttest: 0.7280566\ttest1: 0.7204688\tbest: 0.7204688 (550)\ttotal: 23.7s\tremaining: 1m 23s\n",
      "600:\ttest: 0.7295344\ttest1: 0.7210717\tbest: 0.7210717 (600)\ttotal: 26.1s\tremaining: 1m 22s\n",
      "650:\ttest: 0.7306850\ttest1: 0.7215788\tbest: 0.7215788 (650)\ttotal: 28.2s\tremaining: 1m 20s\n",
      "700:\ttest: 0.7317016\ttest1: 0.7221194\tbest: 0.7221194 (700)\ttotal: 30.2s\tremaining: 1m 17s\n",
      "750:\ttest: 0.7328421\ttest1: 0.7225436\tbest: 0.7225450 (749)\ttotal: 32.2s\tremaining: 1m 14s\n",
      "800:\ttest: 0.7340575\ttest1: 0.7229795\tbest: 0.7230056 (799)\ttotal: 34.1s\tremaining: 1m 12s\n",
      "850:\ttest: 0.7350287\ttest1: 0.7233142\tbest: 0.7233142 (850)\ttotal: 36s\tremaining: 1m 9s\n",
      "900:\ttest: 0.7359632\ttest1: 0.7236480\tbest: 0.7236480 (900)\ttotal: 38s\tremaining: 1m 7s\n",
      "950:\ttest: 0.7368687\ttest1: 0.7239404\tbest: 0.7239404 (950)\ttotal: 40s\tremaining: 1m 5s\n",
      "1000:\ttest: 0.7377737\ttest1: 0.7243989\tbest: 0.7244306 (992)\ttotal: 42s\tremaining: 1m 2s\n",
      "1050:\ttest: 0.7387076\ttest1: 0.7248004\tbest: 0.7248004 (1050)\ttotal: 44s\tremaining: 1m\n",
      "1100:\ttest: 0.7395802\ttest1: 0.7251144\tbest: 0.7251303 (1097)\ttotal: 45.9s\tremaining: 58.4s\n",
      "1150:\ttest: 0.7404614\ttest1: 0.7254092\tbest: 0.7254092 (1150)\ttotal: 47.8s\tremaining: 56s\n",
      "1200:\ttest: 0.7413076\ttest1: 0.7254672\tbest: 0.7255443 (1176)\ttotal: 49.7s\tremaining: 53.8s\n",
      "1250:\ttest: 0.7421653\ttest1: 0.7257832\tbest: 0.7257872 (1247)\ttotal: 51.8s\tremaining: 51.7s\n",
      "1300:\ttest: 0.7428479\ttest1: 0.7258863\tbest: 0.7259309 (1286)\ttotal: 53.7s\tremaining: 49.5s\n",
      "1350:\ttest: 0.7434711\ttest1: 0.7259782\tbest: 0.7260263 (1329)\ttotal: 55.6s\tremaining: 47.3s\n",
      "1400:\ttest: 0.7441153\ttest1: 0.7260263\tbest: 0.7260263 (1400)\ttotal: 57.5s\tremaining: 45.1s\n",
      "1450:\ttest: 0.7447509\ttest1: 0.7261676\tbest: 0.7261761 (1448)\ttotal: 59.4s\tremaining: 43s\n",
      "1500:\ttest: 0.7454534\ttest1: 0.7262828\tbest: 0.7263005 (1492)\ttotal: 1m 1s\tremaining: 40.9s\n",
      "1550:\ttest: 0.7460239\ttest1: 0.7263023\tbest: 0.7263499 (1524)\ttotal: 1m 3s\tremaining: 38.8s\n",
      "1600:\ttest: 0.7464971\ttest1: 0.7263251\tbest: 0.7263499 (1524)\ttotal: 1m 5s\tremaining: 36.7s\n",
      "1650:\ttest: 0.7471056\ttest1: 0.7264262\tbest: 0.7264316 (1649)\ttotal: 1m 7s\tremaining: 34.6s\n",
      "1700:\ttest: 0.7476810\ttest1: 0.7266071\tbest: 0.7266294 (1693)\ttotal: 1m 9s\tremaining: 32.5s\n",
      "1750:\ttest: 0.7483680\ttest1: 0.7267794\tbest: 0.7267794 (1750)\ttotal: 1m 11s\tremaining: 30.5s\n",
      "1800:\ttest: 0.7490463\ttest1: 0.7268307\tbest: 0.7268617 (1778)\ttotal: 1m 13s\tremaining: 28.4s\n",
      "1850:\ttest: 0.7496950\ttest1: 0.7268910\tbest: 0.7268910 (1850)\ttotal: 1m 15s\tremaining: 26.4s\n",
      "1900:\ttest: 0.7503638\ttest1: 0.7268912\tbest: 0.7269455 (1889)\ttotal: 1m 17s\tremaining: 24.3s\n",
      "1950:\ttest: 0.7510267\ttest1: 0.7270779\tbest: 0.7270779 (1950)\ttotal: 1m 19s\tremaining: 22.3s\n",
      "2000:\ttest: 0.7517240\ttest1: 0.7269958\tbest: 0.7270779 (1950)\ttotal: 1m 21s\tremaining: 20.2s\n",
      "2050:\ttest: 0.7524032\ttest1: 0.7270484\tbest: 0.7270779 (1950)\ttotal: 1m 23s\tremaining: 18.2s\n",
      "Stopped by overfitting detector  (100 iterations wait)\n",
      "\n",
      "bestTest = 0.727077903\n",
      "bestIteration = 1950\n",
      "\n",
      "Shrink model to first 1951 iterations.\n",
      "Fold 4, Valid score = 0.72708\n",
      "0:\ttest: 0.6520510\ttest1: 0.6471734\tbest: 0.6471734 (0)\ttotal: 50ms\tremaining: 2m 4s\n",
      "50:\ttest: 0.7032616\ttest1: 0.6981880\tbest: 0.6982014 (49)\ttotal: 2.09s\tremaining: 1m 40s\n",
      "100:\ttest: 0.7058731\ttest1: 0.7005020\tbest: 0.7005020 (100)\ttotal: 4.09s\tremaining: 1m 37s\n",
      "150:\ttest: 0.7090452\ttest1: 0.7034973\tbest: 0.7034973 (150)\ttotal: 6.15s\tremaining: 1m 35s\n",
      "200:\ttest: 0.7125334\ttest1: 0.7064056\tbest: 0.7064444 (199)\ttotal: 8.22s\tremaining: 1m 34s\n",
      "250:\ttest: 0.7154405\ttest1: 0.7090997\tbest: 0.7090997 (250)\ttotal: 10.3s\tremaining: 1m 31s\n",
      "300:\ttest: 0.7185155\ttest1: 0.7114324\tbest: 0.7114324 (300)\ttotal: 12.3s\tremaining: 1m 29s\n",
      "350:\ttest: 0.7207800\ttest1: 0.7129630\tbest: 0.7129630 (350)\ttotal: 14.4s\tremaining: 1m 28s\n",
      "400:\ttest: 0.7230560\ttest1: 0.7147951\tbest: 0.7147951 (400)\ttotal: 16.4s\tremaining: 1m 25s\n",
      "450:\ttest: 0.7250753\ttest1: 0.7156261\tbest: 0.7156407 (445)\ttotal: 18.4s\tremaining: 1m 23s\n",
      "500:\ttest: 0.7268410\ttest1: 0.7168975\tbest: 0.7168975 (500)\ttotal: 20.4s\tremaining: 1m 21s\n",
      "550:\ttest: 0.7284081\ttest1: 0.7177955\tbest: 0.7177955 (550)\ttotal: 22.6s\tremaining: 1m 19s\n",
      "600:\ttest: 0.7297023\ttest1: 0.7186961\tbest: 0.7186961 (600)\ttotal: 24.6s\tremaining: 1m 17s\n",
      "650:\ttest: 0.7309491\ttest1: 0.7192570\tbest: 0.7192570 (650)\ttotal: 26.6s\tremaining: 1m 15s\n",
      "700:\ttest: 0.7321352\ttest1: 0.7195958\tbest: 0.7195958 (700)\ttotal: 28.7s\tremaining: 1m 13s\n",
      "750:\ttest: 0.7333039\ttest1: 0.7201378\tbest: 0.7201378 (750)\ttotal: 30.8s\tremaining: 1m 11s\n",
      "800:\ttest: 0.7342658\ttest1: 0.7203618\tbest: 0.7204895 (794)\ttotal: 33s\tremaining: 1m 9s\n",
      "850:\ttest: 0.7352180\ttest1: 0.7206862\tbest: 0.7207369 (834)\ttotal: 35s\tremaining: 1m 7s\n",
      "900:\ttest: 0.7362430\ttest1: 0.7213000\tbest: 0.7213000 (900)\ttotal: 37s\tremaining: 1m 5s\n",
      "950:\ttest: 0.7372259\ttest1: 0.7216878\tbest: 0.7216878 (950)\ttotal: 39s\tremaining: 1m 3s\n",
      "1000:\ttest: 0.7383102\ttest1: 0.7222807\tbest: 0.7222807 (1000)\ttotal: 41s\tremaining: 1m 1s\n",
      "1050:\ttest: 0.7393632\ttest1: 0.7224018\tbest: 0.7224122 (1049)\ttotal: 43s\tremaining: 59.3s\n",
      "1100:\ttest: 0.7402938\ttest1: 0.7226051\tbest: 0.7226148 (1099)\ttotal: 45.1s\tremaining: 57.3s\n",
      "1150:\ttest: 0.7411793\ttest1: 0.7228800\tbest: 0.7229363 (1148)\ttotal: 47.1s\tremaining: 55.2s\n",
      "1200:\ttest: 0.7421071\ttest1: 0.7230584\tbest: 0.7230759 (1198)\ttotal: 49.1s\tremaining: 53.1s\n",
      "1250:\ttest: 0.7429410\ttest1: 0.7234249\tbest: 0.7234249 (1250)\ttotal: 51s\tremaining: 50.9s\n",
      "1300:\ttest: 0.7436954\ttest1: 0.7237112\tbest: 0.7237117 (1299)\ttotal: 52.9s\tremaining: 48.8s\n",
      "1350:\ttest: 0.7445808\ttest1: 0.7238286\tbest: 0.7238346 (1344)\ttotal: 54.9s\tremaining: 46.7s\n",
      "1400:\ttest: 0.7454143\ttest1: 0.7240743\tbest: 0.7240743 (1400)\ttotal: 56.8s\tremaining: 44.5s\n",
      "1450:\ttest: 0.7461607\ttest1: 0.7241091\tbest: 0.7241362 (1426)\ttotal: 58.7s\tremaining: 42.4s\n",
      "1500:\ttest: 0.7469939\ttest1: 0.7243367\tbest: 0.7243440 (1499)\ttotal: 1m\tremaining: 40.3s\n",
      "1550:\ttest: 0.7477387\ttest1: 0.7244342\tbest: 0.7244374 (1547)\ttotal: 1m 2s\tremaining: 38.2s\n"
     ]
    },
    {
     "name": "stdout",
     "output_type": "stream",
     "text": [
      "1600:\ttest: 0.7483776\ttest1: 0.7246328\tbest: 0.7246499 (1599)\ttotal: 1m 4s\tremaining: 36.2s\n",
      "1650:\ttest: 0.7490790\ttest1: 0.7247206\tbest: 0.7247279 (1649)\ttotal: 1m 6s\tremaining: 34.1s\n",
      "1700:\ttest: 0.7497773\ttest1: 0.7248399\tbest: 0.7248399 (1700)\ttotal: 1m 8s\tremaining: 32.1s\n",
      "1750:\ttest: 0.7504609\ttest1: 0.7249739\tbest: 0.7249904 (1749)\ttotal: 1m 10s\tremaining: 30s\n",
      "1800:\ttest: 0.7511202\ttest1: 0.7250865\tbest: 0.7250950 (1777)\ttotal: 1m 12s\tremaining: 27.9s\n",
      "1850:\ttest: 0.7517938\ttest1: 0.7251160\tbest: 0.7251160 (1850)\ttotal: 1m 13s\tremaining: 25.9s\n",
      "1900:\ttest: 0.7525159\ttest1: 0.7251575\tbest: 0.7252077 (1871)\ttotal: 1m 15s\tremaining: 23.9s\n",
      "1950:\ttest: 0.7531811\ttest1: 0.7251926\tbest: 0.7252261 (1936)\ttotal: 1m 17s\tremaining: 21.9s\n",
      "2000:\ttest: 0.7537516\ttest1: 0.7252094\tbest: 0.7252541 (1972)\ttotal: 1m 19s\tremaining: 19.8s\n",
      "2050:\ttest: 0.7543701\ttest1: 0.7253077\tbest: 0.7253151 (2044)\ttotal: 1m 21s\tremaining: 17.8s\n",
      "2100:\ttest: 0.7550942\ttest1: 0.7254295\tbest: 0.7254662 (2090)\ttotal: 1m 23s\tremaining: 15.8s\n",
      "2150:\ttest: 0.7557279\ttest1: 0.7255479\tbest: 0.7255524 (2148)\ttotal: 1m 25s\tremaining: 13.8s\n",
      "2200:\ttest: 0.7563558\ttest1: 0.7256013\tbest: 0.7256447 (2196)\ttotal: 1m 26s\tremaining: 11.8s\n",
      "2250:\ttest: 0.7569218\ttest1: 0.7255606\tbest: 0.7256447 (2196)\ttotal: 1m 28s\tremaining: 9.82s\n",
      "Stopped by overfitting detector  (100 iterations wait)\n",
      "\n",
      "bestTest = 0.725644651\n",
      "bestIteration = 2196\n",
      "\n",
      "Shrink model to first 2197 iterations.\n",
      "Fold 5, Valid score = 0.72564\n",
      "Score by each fold: [0.72689, 0.72566, 0.72441, 0.72708, 0.72564]\n",
      "=================================================================\n",
      "CPU times: user 14min 44s, sys: 2min 11s, total: 16min 55s\n",
      "Wall time: 6min 43s\n"
     ]
    }
   ],
   "source": [
    "%%time\n",
    "\n",
    "cb_params = {\n",
    "    \"n_estimators\": 2500,\n",
    "    \"learning_rate\": 0.01,\n",
    "    \"loss_function\": \"Logloss\",\n",
    "    \"eval_metric\": \"AUC\",\n",
    "    \"task_type\": \"CPU\",\n",
    "    \"max_bin\": 30,\n",
    "    \"verbose\": 50,\n",
    "    \"max_depth\": 5,\n",
    "    \"l2_leaf_reg\": 10,\n",
    "    \"early_stopping_rounds\": 100,\n",
    "    \"thread_count\": 6,\n",
    "    \"random_seed\": 1234123\n",
    "}\n",
    "\n",
    "cv = StratifiedKFold(n_splits=5, random_state=1234123, shuffle=True)\n",
    "\n",
    "estimators, oof_preds = catboost_cross_validation(\n",
    "    params=cb_params, X=train[feats], y=target, cv=cv, categorical=[]\n",
    ")"
   ]
  },
  {
   "cell_type": "code",
   "execution_count": 21,
   "metadata": {},
   "outputs": [
    {
     "name": "stdout",
     "output_type": "stream",
     "text": [
      "OOF-score = 0.72575\n"
     ]
    }
   ],
   "source": [
    "oof_score = roc_auc_score(\n",
    "    target, oof_preds\n",
    ")\n",
    "print(f\"OOF-score = {round(oof_score, 5)}\")\n",
    "# [0.71874, 0.72732, 0.73022, 0.71888, 0.7242]"
   ]
  },
  {
   "cell_type": "code",
   "execution_count": 22,
   "metadata": {},
   "outputs": [],
   "source": [
    "y_pred = np.zeros(test.shape[0])\n",
    "\n",
    "for estimator in estimators:\n",
    "    y_pred += estimator.predict_proba(test[feats])[:, 1]\n",
    "    \n",
    "y_pred /= len(estimators)"
   ]
  },
  {
   "cell_type": "code",
   "execution_count": 23,
   "metadata": {},
   "outputs": [],
   "source": [
    "# y_pred = estimators[3].predict_proba(test[feats])[:, 1]"
   ]
  },
  {
   "cell_type": "code",
   "execution_count": 24,
   "metadata": {},
   "outputs": [],
   "source": [
    "df_pred = pd.DataFrame({\n",
    "    \"APPLICATION_NUMBER\": test_id,\n",
    "    \"TARGET\": y_pred\n",
    "})\n",
    "df_pred.to_csv(\"./data/submit.csv\", index=False)"
   ]
  },
  {
   "cell_type": "code",
   "execution_count": null,
   "metadata": {},
   "outputs": [],
   "source": []
  }
 ],
 "metadata": {
  "kernelspec": {
   "display_name": "Python 3",
   "language": "python",
   "name": "python3"
  },
  "language_info": {
   "codemirror_mode": {
    "name": "ipython",
    "version": 3
   },
   "file_extension": ".py",
   "mimetype": "text/x-python",
   "name": "python",
   "nbconvert_exporter": "python",
   "pygments_lexer": "ipython3",
   "version": "3.6.3"
  }
 },
 "nbformat": 4,
 "nbformat_minor": 4
}
